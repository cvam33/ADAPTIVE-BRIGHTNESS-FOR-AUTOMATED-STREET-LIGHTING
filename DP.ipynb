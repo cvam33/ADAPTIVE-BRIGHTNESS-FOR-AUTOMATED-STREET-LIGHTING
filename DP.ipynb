{
 "cells": [
  {
   "cell_type": "code",
   "execution_count": 1,
   "id": "6b522520-2535-482f-9cf1-cf61e2a0cd4b",
   "metadata": {},
   "outputs": [
    {
     "name": "stdout",
     "output_type": "stream",
     "text": [
      "Requirement already satisfied: pandas in c:\\users\\xhiva\\anaconda3\\lib\\site-packages (2.2.2)\n",
      "Requirement already satisfied: scikit-learn in c:\\users\\xhiva\\anaconda3\\lib\\site-packages (1.4.2)\n",
      "Requirement already satisfied: requests in c:\\users\\xhiva\\anaconda3\\lib\\site-packages (2.32.2)\n",
      "Requirement already satisfied: numpy>=1.26.0 in c:\\users\\xhiva\\anaconda3\\lib\\site-packages (from pandas) (1.26.4)\n",
      "Requirement already satisfied: python-dateutil>=2.8.2 in c:\\users\\xhiva\\anaconda3\\lib\\site-packages (from pandas) (2.9.0.post0)\n",
      "Requirement already satisfied: pytz>=2020.1 in c:\\users\\xhiva\\anaconda3\\lib\\site-packages (from pandas) (2024.1)\n",
      "Requirement already satisfied: tzdata>=2022.7 in c:\\users\\xhiva\\anaconda3\\lib\\site-packages (from pandas) (2023.3)\n",
      "Requirement already satisfied: scipy>=1.6.0 in c:\\users\\xhiva\\anaconda3\\lib\\site-packages (from scikit-learn) (1.13.1)\n",
      "Requirement already satisfied: joblib>=1.2.0 in c:\\users\\xhiva\\anaconda3\\lib\\site-packages (from scikit-learn) (1.4.2)\n",
      "Requirement already satisfied: threadpoolctl>=2.0.0 in c:\\users\\xhiva\\anaconda3\\lib\\site-packages (from scikit-learn) (2.2.0)\n",
      "Requirement already satisfied: charset-normalizer<4,>=2 in c:\\users\\xhiva\\anaconda3\\lib\\site-packages (from requests) (2.0.4)\n",
      "Requirement already satisfied: idna<4,>=2.5 in c:\\users\\xhiva\\anaconda3\\lib\\site-packages (from requests) (3.7)\n",
      "Requirement already satisfied: urllib3<3,>=1.21.1 in c:\\users\\xhiva\\anaconda3\\lib\\site-packages (from requests) (2.2.2)\n",
      "Requirement already satisfied: certifi>=2017.4.17 in c:\\users\\xhiva\\anaconda3\\lib\\site-packages (from requests) (2024.8.30)\n",
      "Requirement already satisfied: six>=1.5 in c:\\users\\xhiva\\anaconda3\\lib\\site-packages (from python-dateutil>=2.8.2->pandas) (1.16.0)\n",
      "Note: you may need to restart the kernel to use updated packages.\n"
     ]
    }
   ],
   "source": [
    "pip install pandas scikit-learn requests"
   ]
  },
  {
   "cell_type": "code",
   "execution_count": 16,
   "id": "3a17850b-7d4b-47b4-9031-e2fe06429695",
   "metadata": {},
   "outputs": [
    {
     "name": "stdout",
     "output_type": "stream",
     "text": [
      "{'temperature': 29.02, 'humidity': 79, 'visibility': 6.0, 'weather_condition': 'Clouds'}\n"
     ]
    }
   ],
   "source": [
    "import requests\n",
    "\n",
    "API_KEY = \"997aa789a933aab2a5d72f41b5b928eb\"\n",
    "CITY = \"port blair\"\n",
    "\n",
    "def get_weather_data(city):\n",
    "    url = f\"http://api.openweathermap.org/data/2.5/weather?q={city}&appid={API_KEY}&units=metric\"\n",
    "    response = requests.get(url)\n",
    "    if response.status_code == 200:\n",
    "        data = response.json()\n",
    "        weather = {\n",
    "            \"temperature\": data[\"main\"][\"temp\"],\n",
    "            \"humidity\": data[\"main\"][\"humidity\"],\n",
    "            \"visibility\": data[\"visibility\"] / 1000,  # Convert to km\n",
    "            \"weather_condition\": data[\"weather\"][0][\"main\"]\n",
    "        }\n",
    "        return weather\n",
    "    else:\n",
    "        return None\n",
    "\n",
    "weather_data = get_weather_data(CITY)\n",
    "print(weather_data)"
   ]
  },
  {
   "cell_type": "code",
   "execution_count": 3,
   "id": "fbf775d2-a083-47e9-82bb-932c16363c25",
   "metadata": {},
   "outputs": [
    {
     "name": "stdout",
     "output_type": "stream",
     "text": [
      "   temperature  humidity  visibility weather_condition  brightness_level\n",
      "0        15.00        85           2               Fog                80\n",
      "1        20.00        60          10             Clear                30\n",
      "2        10.00        90           1               Fog                90\n",
      "3         5.00        80           3              Rain                70\n",
      "4        12.00        70           8             Clear                50\n",
      "5        25.00        40          12             Clear                20\n",
      "6        30.00        30          15             Clear                10\n",
      "7        21.21        80           4              Mist                85\n"
     ]
    }
   ],
   "source": [
    "import pandas as pd\n",
    "\n",
    "data = {\n",
    "    \"temperature\": [15, 20, 10, 5, 12, 25, 30, 21.21],\n",
    "    \"humidity\": [85, 60, 90, 80, 70, 40, 30, 80],\n",
    "    \"visibility\": [2, 10, 1, 3, 8, 12, 15, 4],  # in km\n",
    "    \"weather_condition\": [\"Fog\", \"Clear\", \"Fog\", \"Rain\", \"Clear\", \"Clear\", \"Clear\", \"Mist\"],\n",
    "    \"brightness_level\": [80, 30, 90, 70, 50, 20, 10, 85]  # Target variable\n",
    "}\n",
    "\n",
    "df = pd.DataFrame(data)\n",
    "print(df)"
   ]
  },
  {
   "cell_type": "code",
   "execution_count": 4,
   "id": "3a18ae90-eac1-41da-8da8-e322ce0c5b55",
   "metadata": {},
   "outputs": [],
   "source": [
    "from sklearn.model_selection import train_test_split\n",
    "from sklearn.preprocessing import LabelEncoder\n",
    "\n",
    "label_encoder = LabelEncoder()\n",
    "df['weather_condition'] = label_encoder.fit_transform(df['weather_condition'])\n",
    "\n",
    "X = df.drop('brightness_level', axis=1)\n",
    "y = df['brightness_level']\n",
    "\n",
    "X_train, X_test, y_train, y_test = train_test_split(X, y, test_size=0.2, random_state=42)"
   ]
  },
  {
   "cell_type": "code",
   "execution_count": 5,
   "id": "2278d1e2-dea5-43eb-8290-1236ad237604",
   "metadata": {},
   "outputs": [
    {
     "name": "stdout",
     "output_type": "stream",
     "text": [
      "Mean Squared Error: 397.6625\n"
     ]
    }
   ],
   "source": [
    "from sklearn.ensemble import RandomForestRegressor\n",
    "from sklearn.metrics import mean_squared_error\n",
    "\n",
    "model = RandomForestRegressor(n_estimators=100, random_state=42)\n",
    "model.fit(X_train, y_train)\n",
    "\n",
    "y_pred = model.predict(X_test)\n",
    "\n",
    "mse = mean_squared_error(y_test, y_pred)\n",
    "print(f\"Mean Squared Error: {mse}\")"
   ]
  },
  {
   "cell_type": "code",
   "execution_count": 20,
   "id": "676a6952-8244-42f9-955e-76733f0edecf",
   "metadata": {},
   "outputs": [
    {
     "name": "stdout",
     "output_type": "stream",
     "text": [
      "Recommended Brightness Level: 59.15\n"
     ]
    }
   ],
   "source": [
    "def predict_brightness(model, weather_data):\n",
    "\n",
    "    input_data = pd.DataFrame([weather_data])\n",
    "    input_data['weather_condition'] = label_encoder.transform(input_data['weather_condition'])\n",
    "    \n",
    "    brightness = model.predict(input_data)[0]\n",
    "    return brightness\n",
    "\n",
    "live_weather = {\n",
    "    \"temperature\": 29.02,\n",
    "    \"humidity\": 79,\n",
    "    \"visibility\": 6,\n",
    "    \"weather_condition\": \"Clear\"\n",
    "}\n",
    "brightness_level = predict_brightness(model, live_weather)\n",
    "print(f\"Recommended Brightness Level: {brightness_level}\")"
   ]
  },
  {
   "cell_type": "code",
   "execution_count": null,
   "id": "11850560-0233-4c69-998a-cd2660d5a75d",
   "metadata": {},
   "outputs": [],
   "source": []
  }
 ],
 "metadata": {
  "kernelspec": {
   "display_name": "Python 3 (ipykernel)",
   "language": "python",
   "name": "python3"
  },
  "language_info": {
   "codemirror_mode": {
    "name": "ipython",
    "version": 3
   },
   "file_extension": ".py",
   "mimetype": "text/x-python",
   "name": "python",
   "nbconvert_exporter": "python",
   "pygments_lexer": "ipython3",
   "version": "3.12.4"
  }
 },
 "nbformat": 4,
 "nbformat_minor": 5
}
